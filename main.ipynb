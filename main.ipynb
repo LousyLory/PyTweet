{
 "cells": [
  {
   "cell_type": "markdown",
   "metadata": {},
   "source": [
    "# PyTweet\n",
    "\n",
    "A chatterbox box for the busy, by the busy.\n",
    "\n",
    "We will be using python frontend over Twitter API to pull live tweets for a specific user. Once we have this we do a decision making based on the following three criteria:\n",
    "\n",
    "* A\n",
    "* B\n",
    "* C\n",
    "\n",
    "Based on these choices we shall stream the output to the output LED to let the user know of the importance of the notification he/she is getting.\n"
   ]
  },
  {
   "cell_type": "code",
   "execution_count": null,
   "metadata": {
    "collapsed": true
   },
   "outputs": [],
   "source": [
    "import "
   ]
  }
 ],
 "metadata": {
  "kernelspec": {
   "display_name": "Python 3",
   "language": "python",
   "name": "python3"
  },
  "language_info": {
   "codemirror_mode": {
    "name": "ipython",
    "version": 3
   },
   "file_extension": ".py",
   "mimetype": "text/x-python",
   "name": "python",
   "nbconvert_exporter": "python",
   "pygments_lexer": "ipython3",
   "version": "3.6.3"
  }
 },
 "nbformat": 4,
 "nbformat_minor": 2
}
