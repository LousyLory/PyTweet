{
 "cells": [
  {
   "cell_type": "markdown",
   "metadata": {},
   "source": [
    "# PyTweet\n",
    "\n",
    "A chatterbox box for the busy, by the busy.\n",
    "\n",
    "We will be using python frontend over Twitter API to pull live tweets pushed by a specific user. We have the following three actions:\n",
    "\n",
    "* $Flash$-$LED$: Someone replies to your tweet. api.GetReplies()\n",
    "* $Beep\\ twice$: Some retweeted your tweet.\n",
    "* $Beep\\ once$: Someone liked your tweet. api.GetStatus(status_id)\n",
    "\n",
    "Based on these choices we shall stream the output to the output LED to let the user know of the importance of the notification he/she is getting.\n"
   ]
  },
  {
   "cell_type": "markdown",
   "metadata": {},
   "source": [
    "### Setting up\n",
    "\n",
    "First do the following\n",
    "\n",
    "```pip install python-twitter```\n",
    "\n",
    "We check by creating an instance of the ```twitter.Api``` with login credentials"
   ]
  },
  {
   "cell_type": "code",
   "execution_count": 14,
   "metadata": {
    "collapsed": true
   },
   "outputs": [],
   "source": [
    "import numpy as np\n",
    "import twitter as tw\n",
    "from twarc import Twarc\n",
    "from pprint import pprint\n",
    "\n",
    "api = tw.Api(consumer_key='MKEVTqMVBmrjNEqKztBV4lJ7n',\n",
    "             consumer_secret='UKUd8JFqs8ThlBNR1u0FfL9X88xIPfJbaSNHFI2j3fBmPiZ3ks',\n",
    "             access_token_key='927046369445076992-aQaF0Ue1FwYdAuxWpnAOMhKD3XAu0A5',\n",
    "             access_token_secret='W8HFctZoKSExssa24KU2Jxr62jZTLg9Eep2WrFE2m95Gi')\n"
   ]
  },
  {
   "cell_type": "markdown",
   "metadata": {},
   "source": [
    "### Sanity check\n",
    "Check if the credentials mentioned did work! \n",
    "For credentials go to $\\texttt{https://apps.twitter.com/app/14433551/keys}$"
   ]
  },
  {
   "cell_type": "code",
   "execution_count": 15,
   "metadata": {},
   "outputs": [
    {
     "name": "stdout",
     "output_type": "stream",
     "text": [
      "{\"created_at\": \"Sun Nov 05 05:34:12 +0000 2017\", \"default_profile\": true, \"default_profile_image\": true, \"id\": 927046369445076992, \"lang\": \"en\", \"name\": \"pytweet\", \"profile_background_color\": \"F5F8FA\", \"profile_image_url\": \"http://abs.twimg.com/sticky/default_profile_images/default_profile_normal.png\", \"profile_link_color\": \"1DA1F2\", \"profile_sidebar_fill_color\": \"DDEEF6\", \"profile_text_color\": \"333333\", \"screen_name\": \"pytweetUM\", \"status\": {\"created_at\": \"Sun Nov 05 05:50:01 +0000 2017\", \"id\": 927050347704700928, \"id_str\": \"927050347704700928\", \"lang\": \"en\", \"source\": \"<a href=\\\"http://twitter.com\\\" rel=\\\"nofollow\\\">Twitter Web Client</a>\", \"text\": \"Just setting up my Twitter. #myfirstTweet\"}, \"statuses_count\": 1}\n"
     ]
    }
   ],
   "source": [
    "print(api.VerifyCredentials())"
   ]
  },
  {
   "cell_type": "markdown",
   "metadata": {},
   "source": [
    "### Count likes"
   ]
  },
  {
   "cell_type": "code",
   "execution_count": 16,
   "metadata": {},
   "outputs": [
    {
     "name": "stdout",
     "output_type": "stream",
     "text": [
      "0\n"
     ]
    }
   ],
   "source": [
    "G1 = api.GetStatus(G.status.id)\n",
    "print(G1._json['favorite_count'])"
   ]
  },
  {
   "cell_type": "markdown",
   "metadata": {},
   "source": [
    "### Count retweets"
   ]
  },
  {
   "cell_type": "code",
   "execution_count": 17,
   "metadata": {},
   "outputs": [
    {
     "name": "stdout",
     "output_type": "stream",
     "text": [
      "1\n"
     ]
    }
   ],
   "source": [
    "print(G1._json['retweet_count'])"
   ]
  },
  {
   "cell_type": "markdown",
   "metadata": {},
   "source": [
    "### Count replies"
   ]
  },
  {
   "cell_type": "code",
   "execution_count": null,
   "metadata": {},
   "outputs": [],
   "source": []
  },
  {
   "cell_type": "markdown",
   "metadata": {},
   "source": [
    "## $\\color{blue}{The\\ Infinite\\ loop\\ thing}$"
   ]
  },
  {
   "cell_type": "code",
   "execution_count": null,
   "metadata": {
    "collapsed": true
   },
   "outputs": [],
   "source": [
    "# for the raspberry thingy\n",
    "from gpiozero import LED, Button\n",
    "from time import sleep\n",
    "\n",
    "import numpy as np\n",
    "import twitter as tw\n",
    "\n",
    "#Changed_like = False\n",
    "#Changed_retweet = False\n",
    "last_like = 0\n",
    "last_retweet = 0\n",
    "\n",
    "LED_like = LED(4)\n",
    "LED_retweet = LED(5)\n",
    "\n",
    "while(1):\n",
    "    api = tw.Api(consumer_key='MKEVTqMVBmrjNEqKztBV4lJ7n',\n",
    "             consumer_secret='UKUd8JFqs8ThlBNR1u0FfL9X88xIPfJbaSNHFI2j3fBmPiZ3ks',\n",
    "             access_token_key='927046369445076992-aQaF0Ue1FwYdAuxWpnAOMhKD3XAu0A5',\n",
    "             access_token_secret='W8HFctZoKSExssa24KU2Jxr62jZTLg9Eep2WrFE2m95Gi')\n",
    "    \n",
    "    G1 = api.GetStatus(G.status.id)\n",
    "    \n",
    "    # count likes\n",
    "    if G1._json['favorite_count'] > last_like:\n",
    "        last_like = G1._json['favorite_count']\n",
    "        # print('Changed_like')\n",
    "        LED_like.on()\n",
    "        sleep(2)\n",
    "    elif G1._json['favorite_count'] < last_like:\n",
    "        last_like = G1._json['favorite_count']\n",
    "    \n",
    "    # count retweets\n",
    "    if G1._json['retweet_count'] > last_retweet:\n",
    "        last_retweet = G1._json['retweet_count']\n",
    "        # print('Changed_retweet')\n",
    "        LED_retweet.on()\n",
    "        sleep(2)\n",
    "    elif G1._json['retweet_count'] < last_retweet:\n",
    "        last_retweet = G1._json['retweet_count']\n",
    "    \n",
    "    LED_like.off()\n",
    "    LED_retweet.off()"
   ]
  }
 ],
 "metadata": {
  "kernelspec": {
   "display_name": "Python 3",
   "language": "python",
   "name": "python3"
  },
  "language_info": {
   "codemirror_mode": {
    "name": "ipython",
    "version": 3
   },
   "file_extension": ".py",
   "mimetype": "text/x-python",
   "name": "python",
   "nbconvert_exporter": "python",
   "pygments_lexer": "ipython3",
   "version": "3.6.3"
  }
 },
 "nbformat": 4,
 "nbformat_minor": 2
}
