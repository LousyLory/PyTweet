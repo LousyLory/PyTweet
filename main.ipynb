{
 "cells": [
  {
   "cell_type": "markdown",
   "metadata": {},
   "source": [
    "# PyTweet\n",
    "\n",
    "A chatterbox box for the busy, by the busy.\n",
    "\n",
    "We will be using python frontend over Twitter API to pull live tweets pushed by a specific user. We have the following three actions:\n",
    "\n",
    "* $Flash$-$LED$: Someone replies to your tweet. api.GetReplies()\n",
    "* $Beep\\ twice$: Some retweeted your tweet.\n",
    "* $Beep\\ once$: Someone liked your tweet. api.GetStatus(status_id)\n",
    "\n",
    "Based on these choices we shall stream the output to the output LED to let the user know of the importance of the notification he/she is getting.\n"
   ]
  },
  {
   "cell_type": "markdown",
   "metadata": {},
   "source": [
    "## The Big Picture\n",
    "\n",
    "Our social media feeds can be very related to our instantaneous mood swings (a very prevalent thing in todays world). We create a platform that can allow us to recieve real world outcomes to the changes that are happening in our social media feed. \n",
    "\n",
    "To do this we present ```PyTweet```. Pytweet will help to channel color to your life by relating any real world entity to your social media feed. As a promotional demo we show how to use PyTweet with your twitter account.\n",
    "\n",
    "### The demo\n",
    "\n",
    "Once you've setup your twitter account with PyTweet, it will keep track of what is happening to your current posts. You send out a status PyTweet knows it. Someone likes your status, PyTweet tells you. Someone reposts your status, PyTweet tells you. Someone replies to your status, PyTweet tells you. All of this without ever touching your phone once you have posted your status.\n",
    "\n",
    "So the question: Does PyTweet allow me to this for Twitter only? Answer: No! You can go ahead and configure your other social media feeds with PyTweet. Provided the social media allows us to access your feed with your credentials we ensure that you get real world feedbacks!!\n",
    "\n",
    "For this demo we show that for any reacts to your post PyTweet can turn on a bulb. But is that it? No again! You see PyTweet come with infinite capabilities! For example ```instagram```. Enter your login credentials, we will keep track of your latest post! But what can we do with your latest posts? Well instagram allows to access the post, we can extract the theme color of your post and output it to you smart LEDs of your home! So boom! You have a instagram themed room in your house. So unlike all other people selling your information, we give back happiness to your life. You can play a song, you can turn on Netflix, and bunch of other things that a raspberry pi can allow you to do. Even wehn you're busy, PyTweet keeps giving you the effects and loves your demand from your friends and followers!\n",
    "\n",
    "Happy Tweeting for now!"
   ]
  },
  {
   "cell_type": "markdown",
   "metadata": {},
   "source": [
    "### Setting up\n",
    "\n",
    "First do the following\n",
    "\n",
    "```pip install python-twitter```\n",
    "\n",
    "We check by creating an instance of the ```twitter.Api``` with your login credentials"
   ]
  },
  {
   "cell_type": "code",
   "execution_count": 14,
   "metadata": {
    "collapsed": true
   },
   "outputs": [],
   "source": [
    "import numpy as np\n",
    "import twitter as tw\n",
    "from twarc import Twarc\n",
    "from pprint import pprint\n",
    "\n",
    "api = tw.Api(consumer_key='MKEVTqMVBmrjNEqKztBV4lJ7n',\n",
    "             consumer_secret='UKUd8JFqs8ThlBNR1u0FfL9X88xIPfJbaSNHFI2j3fBmPiZ3ks',\n",
    "             access_token_key='927046369445076992-aQaF0Ue1FwYdAuxWpnAOMhKD3XAu0A5',\n",
    "             access_token_secret='W8HFctZoKSExssa24KU2Jxr62jZTLg9Eep2WrFE2m95Gi')\n"
   ]
  },
  {
   "cell_type": "markdown",
   "metadata": {},
   "source": [
    "### Sanity check\n",
    "Check if the credentials mentioned did work! \n",
    "For credentials go to $\\texttt{https://apps.twitter.com/app/14433551/keys}$"
   ]
  },
  {
   "cell_type": "code",
   "execution_count": 15,
   "metadata": {},
   "outputs": [
    {
     "name": "stdout",
     "output_type": "stream",
     "text": [
      "{\"created_at\": \"Sun Nov 05 05:34:12 +0000 2017\", \"default_profile\": true, \"default_profile_image\": true, \"id\": 927046369445076992, \"lang\": \"en\", \"name\": \"pytweet\", \"profile_background_color\": \"F5F8FA\", \"profile_image_url\": \"http://abs.twimg.com/sticky/default_profile_images/default_profile_normal.png\", \"profile_link_color\": \"1DA1F2\", \"profile_sidebar_fill_color\": \"DDEEF6\", \"profile_text_color\": \"333333\", \"screen_name\": \"pytweetUM\", \"status\": {\"created_at\": \"Sun Nov 05 05:50:01 +0000 2017\", \"id\": 927050347704700928, \"id_str\": \"927050347704700928\", \"lang\": \"en\", \"source\": \"<a href=\\\"http://twitter.com\\\" rel=\\\"nofollow\\\">Twitter Web Client</a>\", \"text\": \"Just setting up my Twitter. #myfirstTweet\"}, \"statuses_count\": 1}\n"
     ]
    }
   ],
   "source": [
    "print(api.VerifyCredentials())"
   ]
  },
  {
   "cell_type": "markdown",
   "metadata": {},
   "source": [
    "### Count likes"
   ]
  },
  {
   "cell_type": "code",
   "execution_count": 16,
   "metadata": {},
   "outputs": [
    {
     "name": "stdout",
     "output_type": "stream",
     "text": [
      "0\n"
     ]
    }
   ],
   "source": [
    "G1 = api.GetStatus(G.status.id)\n",
    "print(G1._json['favorite_count'])"
   ]
  },
  {
   "cell_type": "markdown",
   "metadata": {},
   "source": [
    "### Count retweets"
   ]
  },
  {
   "cell_type": "code",
   "execution_count": 17,
   "metadata": {},
   "outputs": [
    {
     "name": "stdout",
     "output_type": "stream",
     "text": [
      "1\n"
     ]
    }
   ],
   "source": [
    "print(G1._json['retweet_count'])"
   ]
  },
  {
   "cell_type": "markdown",
   "metadata": {},
   "source": [
    "## $\\color{blue}{The\\ Final\\ code}$"
   ]
  },
  {
   "cell_type": "code",
   "execution_count": null,
   "metadata": {
    "collapsed": true
   },
   "outputs": [],
   "source": [
    "# for the raspberry thingy\n",
    "from gpiozero import LED, Button\n",
    "from time import sleep\n",
    "\n",
    "import numpy as np\n",
    "import twitter as tw\n",
    "\n",
    "#Changed_like = False\n",
    "#Changed_retweet = False\n",
    "last_like = 0\n",
    "last_retweet = 0\n",
    "\n",
    "LED_like = LED(4)\n",
    "LED_retweet = LED(5)\n",
    "\n",
    "while(1):\n",
    "    api = tw.Api(consumer_key='MKEVTqMVBmrjNEqKztBV4lJ7n',\n",
    "             consumer_secret='UKUd8JFqs8ThlBNR1u0FfL9X88xIPfJbaSNHFI2j3fBmPiZ3ks',\n",
    "             access_token_key='927046369445076992-aQaF0Ue1FwYdAuxWpnAOMhKD3XAu0A5',\n",
    "             access_token_secret='W8HFctZoKSExssa24KU2Jxr62jZTLg9Eep2WrFE2m95Gi')\n",
    "    \n",
    "    G1 = api.GetStatus(G.status.id)\n",
    "    \n",
    "    # count likes\n",
    "    if G1._json['favorite_count'] > last_like:\n",
    "        last_like = G1._json['favorite_count']\n",
    "        # print('Changed_like')\n",
    "        # HERE is the action\n",
    "        LED_like.on()\n",
    "        sleep(2)\n",
    "    elif G1._json['favorite_count'] < last_like:\n",
    "        last_like = G1._json['favorite_count']\n",
    "    \n",
    "    # count retweets\n",
    "    if G1._json['retweet_count'] > last_retweet:\n",
    "        last_retweet = G1._json['retweet_count']\n",
    "        # print('Changed_retweet')\n",
    "        # HERE is the action\n",
    "        LED_retweet.on()\n",
    "        sleep(2)\n",
    "    elif G1._json['retweet_count'] < last_retweet:\n",
    "        last_retweet = G1._json['retweet_count']\n",
    "    \n",
    "    LED_like.off()\n",
    "    LED_retweet.off()"
   ]
  }
 ],
 "metadata": {
  "kernelspec": {
   "display_name": "Python 3",
   "language": "python",
   "name": "python3"
  },
  "language_info": {
   "codemirror_mode": {
    "name": "ipython",
    "version": 3
   },
   "file_extension": ".py",
   "mimetype": "text/x-python",
   "name": "python",
   "nbconvert_exporter": "python",
   "pygments_lexer": "ipython3",
   "version": "3.6.3"
  }
 },
 "nbformat": 4,
 "nbformat_minor": 2
}
