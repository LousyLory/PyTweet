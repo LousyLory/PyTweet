{
 "cells": [
  {
   "cell_type": "markdown",
   "metadata": {},
   "source": [
    "# PyTweet\n",
    "\n",
    "A chatterbox box for the busy, by the busy.\n",
    "\n",
    "We will be using python frontend over Twitter API to pull live tweets pushed by a specific user. We have the following three actions:\n",
    "\n",
    "* $Flash$-$LED$: Someone replies to your tweet. api.GetReplies()\n",
    "* $Beep\\ twice$: Some retweeted your tweet.\n",
    "* $Beep\\ once$: Someone liked your tweet. api.GetStatus(status_id)\n",
    "\n",
    "Based on these choices we shall stream the output to the output LED to let the user know of the importance of the notification he/she is getting.\n"
   ]
  },
  {
   "cell_type": "markdown",
   "metadata": {},
   "source": [
    "### Setting up\n",
    "\n",
    "First do the following\n",
    "\n",
    "```pip install python-twitter```\n",
    "\n",
    "We check by creating an instance of the ```twitter.Api``` with login credentials"
   ]
  },
  {
   "cell_type": "code",
   "execution_count": 9,
   "metadata": {},
   "outputs": [],
   "source": [
    "import numpy as np\n",
    "import twitter as tw\n",
    "from twarc import Twarc\n",
    "from pprint import pprint\n",
    "api = tw.Api(consumer_key='8xEeUqGVTLmyS2f7Y8rOUnQIk',\n",
    "             consumer_secret='WQemTaZpY9DoMSf1jRlcPVLe5zHBO47gTvNod7BTe8AdKvpntY',\n",
    "             access_token_key='254519106-PXVDd8F77zdSv7QdhBO7htThNl5Uk95hmO5Fm2ev',\n",
    "             access_token_secret='SNaQ1LhYg1bf7IH2JVF4cc6gl8IeuuNY6vPuNdQMvPNAu')\n",
    "\n",
    "#credentials = load_config(default_config_filename(), 'main')\n",
    "#t = Twarc(consumer_key=credentials['8xEeUqGVTLmyS2f7Y8rOUnQIk'],\n",
    "#          consumer_secret=credentials['WQemTaZpY9DoMSf1jRlcPVLe5zHBO47gTvNod7BTe8AdKvpntY'],\n",
    "#          access_token=credentials['254519106-PXVDd8F77zdSv7QdhBO7htThNl5Uk95hmO5Fm2ev'],\n",
    "#          access_token_secret=credentials['SNaQ1LhYg1bf7IH2JVF4cc6gl8IeuuNY6vPuNdQMvPNAu'])\n",
    "t = Twarc(consumer_key='8xEeUqGVTLmyS2f7Y8rOUnQIk',\n",
    "             consumer_secret='WQemTaZpY9DoMSf1jRlcPVLe5zHBO47gTvNod7BTe8AdKvpntY',\n",
    "             access_token='254519106-PXVDd8F77zdSv7QdhBO7htThNl5Uk95hmO5Fm2ev',\n",
    "             access_token_secret='SNaQ1LhYg1bf7IH2JVF4cc6gl8IeuuNY6vPuNdQMvPNAu')"
   ]
  },
  {
   "cell_type": "markdown",
   "metadata": {},
   "source": [
    "### Sanity check\n",
    "Check if the credentials mentioned did work! \n",
    "For credentials go to $\\texttt{https://apps.twitter.com/app/14433551/keys}$"
   ]
  },
  {
   "cell_type": "code",
   "execution_count": 24,
   "metadata": {},
   "outputs": [
    {
     "name": "stdout",
     "output_type": "stream",
     "text": [
      "{\"created_at\": \"Sat Feb 19 12:56:53 +0000 2011\", \"description\": \"Computer Scientist, Musician, and Gastronome!\", \"favourites_count\": 55, \"followers_count\": 72, \"friends_count\": 82, \"geo_enabled\": true, \"id\": 254519106, \"lang\": \"en\", \"location\": \"Kolkata, IN\", \"name\": \"Archan Ray\", \"profile_background_color\": \"131516\", \"profile_background_image_url\": \"http://abs.twimg.com/images/themes/theme14/bg.gif\", \"profile_background_tile\": true, \"profile_banner_url\": \"https://pbs.twimg.com/profile_banners/254519106/1360757679\", \"profile_image_url\": \"http://pbs.twimg.com/profile_images/1962227526/38_normal.jpg\", \"profile_link_color\": \"009999\", \"profile_sidebar_fill_color\": \"EFEFEF\", \"profile_text_color\": \"333333\", \"screen_name\": \"rays_unbound\", \"status\": {\"created_at\": \"Wed May 03 02:06:18 +0000 2017\", \"id\": 859589905684602883, \"id_str\": \"859589905684602883\", \"in_reply_to_screen_name\": \"dbrand\", \"in_reply_to_status_id\": 858033455128621056, \"in_reply_to_user_id\": 504020426, \"lang\": \"en\", \"retweet_count\": 1, \"source\": \"<a href=\\\"http://twitter.com\\\" rel=\\\"nofollow\\\">Twitter Web Client</a>\", \"text\": \"@dbrand Alienware 15 r3\"}, \"statuses_count\": 126, \"time_zone\": \"Kolkata\", \"url\": \"https://t.co/12vZTJljZX\", \"utc_offset\": 19800}\n"
     ]
    }
   ],
   "source": [
    "print(api.VerifyCredentials())"
   ]
  },
  {
   "cell_type": "markdown",
   "metadata": {},
   "source": [
    "### Obtain the last status ID"
   ]
  },
  {
   "cell_type": "code",
   "execution_count": 26,
   "metadata": {},
   "outputs": [
    {
     "name": "stdout",
     "output_type": "stream",
     "text": [
      "859589905684602883\n"
     ]
    }
   ],
   "source": [
    "G = api.VerifyCredentials()\n",
    "print(G.status.id)"
   ]
  },
  {
   "cell_type": "markdown",
   "metadata": {},
   "source": [
    "### Count likes"
   ]
  },
  {
   "cell_type": "code",
   "execution_count": 29,
   "metadata": {},
   "outputs": [
    {
     "name": "stdout",
     "output_type": "stream",
     "text": [
      "0\n"
     ]
    }
   ],
   "source": [
    "G1 = api.GetStatus(G.status.id)\n",
    "print(G1._json['favorite_count'])"
   ]
  },
  {
   "cell_type": "markdown",
   "metadata": {},
   "source": [
    "### Count retweets"
   ]
  },
  {
   "cell_type": "code",
   "execution_count": 28,
   "metadata": {},
   "outputs": [
    {
     "name": "stdout",
     "output_type": "stream",
     "text": [
      "1\n"
     ]
    }
   ],
   "source": [
    "print(G1._json['retweet_count'])"
   ]
  },
  {
   "cell_type": "markdown",
   "metadata": {},
   "source": [
    "### Count replies"
   ]
  },
  {
   "cell_type": "code",
   "execution_count": 5,
   "metadata": {},
   "outputs": [
    {
     "name": "stdout",
     "output_type": "stream",
     "text": [
      "0\n"
     ]
    }
   ],
   "source": []
  },
  {
   "cell_type": "code",
   "execution_count": null,
   "metadata": {
    "collapsed": true
   },
   "outputs": [],
   "source": []
  }
 ],
 "metadata": {
  "kernelspec": {
   "display_name": "Python 3",
   "language": "python",
   "name": "python3"
  },
  "language_info": {
   "codemirror_mode": {
    "name": "ipython",
    "version": 3
   },
   "file_extension": ".py",
   "mimetype": "text/x-python",
   "name": "python",
   "nbconvert_exporter": "python",
   "pygments_lexer": "ipython3",
   "version": "3.6.3"
  }
 },
 "nbformat": 4,
 "nbformat_minor": 2
}
